{
 "cells": [
  {
   "cell_type": "markdown",
   "metadata": {},
   "source": [
    "### Realiza conexão com site <a href='www.cachacaexpress.com'>Cachaça Express </a> e obtem informações relevantes sobre suas cachaças."
   ]
  },
  {
   "cell_type": "code",
   "execution_count": 1,
   "metadata": {
    "collapsed": true
   },
   "outputs": [],
   "source": [
    "from urllib.request import urlopen\n",
    "import requests\n",
    "from bs4 import BeautifulSoup\n",
    "import pandas as pd\n",
    "import numpy as np"
   ]
  },
  {
   "cell_type": "markdown",
   "metadata": {},
   "source": [
    "#### Obtendo a página inicial do <i>site</i>"
   ]
  },
  {
   "cell_type": "code",
   "execution_count": 2,
   "metadata": {
    "scrolled": true
   },
   "outputs": [
    {
     "name": "stdout",
     "output_type": "stream",
     "text": [
      "[+] Iniciando...!\n"
     ]
    },
    {
     "data": {
      "text/plain": [
       "'As melhores cachaças artesanais de Minas e do Brasil - Cachaça Express'"
      ]
     },
     "execution_count": 2,
     "metadata": {},
     "output_type": "execute_result"
    }
   ],
   "source": [
    "print('[+] Iniciando...!')\n",
    "\n",
    "endereco = 'https://www.cachacaexpress.com.br/cachaca.html?dir=desc&limit=all'\n",
    "\n",
    "# Realizando conexão com site e lendo a página html\n",
    "html = requests.get(endereco).text\n",
    "\n",
    "# Criando um objeto BeautifulSoup com o html da página\n",
    "bsObj = BeautifulSoup(html, 'html.parser')\n",
    "bsObj.title.text"
   ]
  },
  {
   "cell_type": "markdown",
   "metadata": {},
   "source": [
    "#### Obtendo <i>links</i> para página de informação de cada cachaça"
   ]
  },
  {
   "cell_type": "code",
   "execution_count": null,
   "metadata": {},
   "outputs": [
    {
     "name": "stdout",
     "output_type": "stream",
     "text": [
      "Total de cachaça:  332\n"
     ]
    },
    {
     "data": {
      "text/plain": [
       "['https://www.cachacaexpress.com.br/cachaca/cachaca-vale-verde-3-anos-700ml.html',\n",
       " 'https://www.cachacaexpress.com.br/cachaca/cachaca-vale-verde-3-anos-50ml.html',\n",
       " 'https://www.cachacaexpress.com.br/cachaca/cachaca-minha-deusa-700ml.html',\n",
       " 'https://www.cachacaexpress.com.br/cachaca/cachaca-vale-verde-12-anos-700ml.html',\n",
       " 'https://www.cachacaexpress.com.br/cachaca/cachaca-coluninha-50-ml.html',\n",
       " 'https://www.cachacaexpress.com.br/cachaca/cachaca-prosa-700.html',\n",
       " 'https://www.cachacaexpress.com.br/cachaca/cachaca-boazinha-670ml-ouro.html',\n",
       " 'https://www.cachacaexpress.com.br/cachaca/cachaca-boazinha-50ml-ouro.html',\n",
       " 'https://www.cachacaexpress.com.br/cachaca/cachaca-lua-nova-700ml-ouro.html',\n",
       " 'https://www.cachacaexpress.com.br/cachaca/cachaca-canarinha-600ml.html']"
      ]
     },
     "execution_count": 3,
     "metadata": {},
     "output_type": "execute_result"
    }
   ],
   "source": [
    "# Obtendo endereço da página com informações de cada cachaça\n",
    "cachaca_list = bsObj.find_all('h2', {'class': 'product-name'})\n",
    "\n",
    "# Obtém a lista url de informações de todas cachaças\n",
    "url_list = [url.a.attrs['href'] for url in cachaca_list]\n",
    "\n",
    "print('Total de cachaça: ', len(cachaca_list))\n",
    "url_list[:10]"
   ]
  },
  {
   "cell_type": "markdown",
   "metadata": {},
   "source": [
    "#### Conectando a página de cada produto e obtendo informações"
   ]
  },
  {
   "cell_type": "code",
   "execution_count": null,
   "metadata": {},
   "outputs": [
    {
     "name": "stdout",
     "output_type": "stream",
     "text": [
      "[+] 7 <--> 332\r"
     ]
    }
   ],
   "source": [
    "avaliacao_list = []\n",
    "info_list = []\n",
    "total = len(url_list)\n",
    "\n",
    "for indice, url in enumerate(url_list):\n",
    "    \n",
    "    # Realizando conexão com a url e obtendo html.\n",
    "    html = requests.get(url).text\n",
    "    \n",
    "    # Criando um objeto BeautifulSoup com o html\n",
    "    bs_cachaca = BeautifulSoup(html, 'html.parser')\n",
    "\n",
    "    # Obtendo informações da cachaça\n",
    "    info = [info.text.strip() for info in bs_cachaca.tbody('td')]\n",
    "    \n",
    "    # Obtendo preço\n",
    "    info.append(\n",
    "        bs_cachaca.select('div[class=\"product-shop-info\"] span[class=\"price\"]')[0].text\n",
    "    )\n",
    "    \n",
    "    info_list.append(info)\n",
    "    \n",
    "    # Obtendo avaliações\n",
    "    avaliacoes = bs_cachaca.select('div[id=\"product-customer-reviews\"] li')\n",
    "    for x in avaliacoes:\n",
    "\n",
    "        avaliacao = x.find_all('p')\n",
    "        \n",
    "        # Se não tem nenhuma avaliação, retorne\n",
    "        if len(avaliacao) == 0:\n",
    "            break\n",
    "            \n",
    "        # Obtem satisfação do cliente\n",
    "        satisfacao = x.find_all('div', style=True)\n",
    "        satisfacao = None if len(satisfacao) == 0 else satisfacao[0]['style'].split()[1]\n",
    "        \n",
    "        # Armazena o indice da cachaça, a avaliação e data da avaliação\n",
    "        avaliacao_list.append(\n",
    "            [indice, satisfacao, avaliacao[0].text.replace('\\\"', ''), avaliacao[1].span.text.split()[1]]\n",
    "        )\n",
    "    # Somente para não quebrar linha\n",
    "    print('[+] {0} <--> {1}\\r'.format(indice, total), end='')\n"
   ]
  },
  {
   "cell_type": "markdown",
   "metadata": {},
   "source": [
    "#### Criando <i>DataFrame</i> com informações das cachaças"
   ]
  },
  {
   "cell_type": "code",
   "execution_count": null,
   "metadata": {},
   "outputs": [],
   "source": [
    "# Criando DataFrame com as informações das cachaças\n",
    "labels = [\n",
    "    'descricao', 'estado', 'envelhecimento', 'alcool', 'marca',\n",
    "    'madeira', 'grupo', 'madeira', 'tipo', 'volume', 'preco'\n",
    "]\n",
    "df_cachaca = pd.DataFrame(info_list, columns=labels)\n",
    "df_cachaca.head()"
   ]
  },
  {
   "cell_type": "markdown",
   "metadata": {},
   "source": [
    "#### Criando <i>DataFrame</i> com avaliações das cachaças"
   ]
  },
  {
   "cell_type": "code",
   "execution_count": null,
   "metadata": {},
   "outputs": [],
   "source": [
    "# Criando DataFrame com as informações das avaliações\n",
    "labels = ['id_cachaca', 'satisfacao', 'avaliacao', 'data_avaliacao']\n",
    "df_avaliacao = pd.DataFrame(avaliacao_list, columns=labels)\n",
    "df_avaliacao.head()\n"
   ]
  },
  {
   "cell_type": "markdown",
   "metadata": {},
   "source": [
    "#### Salvando os <i>DataFrame</i> para arquivo .csv"
   ]
  },
  {
   "cell_type": "code",
   "execution_count": null,
   "metadata": {
    "collapsed": true
   },
   "outputs": [],
   "source": [
    "df_cachaca.to_csv('cachaca.csv')\n",
    "df_avaliacao.to_csv('avaliacao.csv')\n"
   ]
  },
  {
   "cell_type": "markdown",
   "metadata": {},
   "source": [
    "### Rápida análise dos dados"
   ]
  },
  {
   "cell_type": "code",
   "execution_count": null,
   "metadata": {
    "collapsed": true
   },
   "outputs": [],
   "source": [
    "# lendo arquivos\n",
    "df_aguardente = pd.read_csv('cachaca.csv')\n",
    "df_ava = pd.read_csv('avaliacao.csv')"
   ]
  },
  {
   "cell_type": "code",
   "execution_count": null,
   "metadata": {},
   "outputs": [],
   "source": [
    "# Total de avaliçãoes\n",
    "print('Total de cachaças: ', df_aguardente.count().marca)\n",
    "print('Total de avaliações: ', df_ava.groupby(['id_cachaca']).count().shape[0])"
   ]
  }
 ],
 "metadata": {
  "kernelspec": {
   "display_name": "Python 3",
   "language": "python",
   "name": "python3"
  },
  "language_info": {
   "codemirror_mode": {
    "name": "ipython",
    "version": 3
   },
   "file_extension": ".py",
   "mimetype": "text/x-python",
   "name": "python",
   "nbconvert_exporter": "python",
   "pygments_lexer": "ipython3",
   "version": "3.5.3"
  }
 },
 "nbformat": 4,
 "nbformat_minor": 2
}
