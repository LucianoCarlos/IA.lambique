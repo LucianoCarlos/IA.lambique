{
 "cells": [
  {
   "cell_type": "markdown",
   "metadata": {},
   "source": [
    "### Realiza conexão com site <a href='https://www.cachacaexpress.com.br/'>Cachaça Express </a> e obtem informações relevantes sobre suas cachaças."
   ]
  },
  {
   "cell_type": "code",
   "execution_count": 1,
   "metadata": {
    "collapsed": true
   },
   "outputs": [],
   "source": [
    "from urllib.request import urlopen\n",
    "import requests\n",
    "from bs4 import BeautifulSoup\n",
    "import pandas as pd\n",
    "import numpy as np"
   ]
  },
  {
   "cell_type": "markdown",
   "metadata": {},
   "source": [
    "#### Obtendo a página inicial do <i>site</i>"
   ]
  },
  {
   "cell_type": "code",
   "execution_count": 2,
   "metadata": {
    "scrolled": true
   },
   "outputs": [
    {
     "name": "stdout",
     "output_type": "stream",
     "text": [
      "[+] Iniciando...!\n"
     ]
    },
    {
     "data": {
      "text/plain": [
       "'As melhores cachaças artesanais de Minas e do Brasil - Cachaça Express'"
      ]
     },
     "execution_count": 2,
     "metadata": {},
     "output_type": "execute_result"
    }
   ],
   "source": [
    "print('[+] Iniciando...!')\n",
    "\n",
    "endereco = 'https://www.cachacaexpress.com.br/cachaca.html?dir=desc&limit=all'\n",
    "\n",
    "# Realizando conexão com site e lendo a página html\n",
    "html = requests.get(endereco).text\n",
    "\n",
    "# Criando um objeto BeautifulSoup com o html da página\n",
    "bsObj = BeautifulSoup(html, 'html.parser')\n",
    "bsObj.title.text"
   ]
  },
  {
   "cell_type": "markdown",
   "metadata": {},
   "source": [
    "#### Obtendo <i>links</i> para página de informação de cada cachaça"
   ]
  },
  {
   "cell_type": "code",
   "execution_count": 3,
   "metadata": {},
   "outputs": [
    {
     "name": "stdout",
     "output_type": "stream",
     "text": [
      "Total de cachaça:  335\n"
     ]
    },
    {
     "data": {
      "text/plain": [
       "['https://www.cachacaexpress.com.br/cachaca/cachaca-vale-verde-3-anos-700ml.html',\n",
       " 'https://www.cachacaexpress.com.br/cachaca/cachaca-vale-verde-3-anos-50ml.html',\n",
       " 'https://www.cachacaexpress.com.br/cachaca/cachaca-minha-deusa-700ml.html',\n",
       " 'https://www.cachacaexpress.com.br/cachaca/cachaca-vale-verde-12-anos-700ml.html',\n",
       " 'https://www.cachacaexpress.com.br/cachaca/cachaca-coluninha-50-ml.html',\n",
       " 'https://www.cachacaexpress.com.br/cachaca/cachaca-prosa-700.html',\n",
       " 'https://www.cachacaexpress.com.br/cachaca/cachaca-boazinha-670ml-ouro.html',\n",
       " 'https://www.cachacaexpress.com.br/cachaca/cachaca-boazinha-50ml-ouro.html',\n",
       " 'https://www.cachacaexpress.com.br/cachaca/cachaca-lua-nova-700ml-ouro.html',\n",
       " 'https://www.cachacaexpress.com.br/cachaca/cachaca-canarinha-600ml.html']"
      ]
     },
     "execution_count": 3,
     "metadata": {},
     "output_type": "execute_result"
    }
   ],
   "source": [
    "# Obtendo endereço da página com informações de cada cachaça\n",
    "cachaca_list = bsObj.find_all('h2', {'class': 'product-name'})\n",
    "\n",
    "# Obtém a lista url de informações de todas cachaças\n",
    "url_list = [url.a.attrs['href'] for url in cachaca_list]\n",
    "\n",
    "print('Total de cachaça: ', len(cachaca_list))\n",
    "url_list[:10]"
   ]
  },
  {
   "cell_type": "markdown",
   "metadata": {},
   "source": [
    "#### Conectando a página de cada produto e obtendo informações"
   ]
  },
  {
   "cell_type": "code",
   "execution_count": 4,
   "metadata": {},
   "outputs": [
    {
     "name": "stdout",
     "output_type": "stream",
     "text": [
      "[+] 335 <--> 335\r"
     ]
    }
   ],
   "source": [
    "def get_avaliacoes(indice, bs_cachaca):    \n",
    "    '''\n",
    "    Obtém as avaliações de uma determinada cachaça, caso exista. Recebe um\n",
    "    objeto BeautifulSoup da página da cachaça e o índice\n",
    "    referente a cachaça.\n",
    "    '''\n",
    "    \n",
    "    avaliacao_list = []\n",
    "    avaliacoes = bs_cachaca.select('div[id=\"product-customer-reviews\"] li')\n",
    "    \n",
    "    for x in avaliacoes:\n",
    "\n",
    "        avaliacao = x.find_all('p')\n",
    "        \n",
    "        # Se não tem nenhuma avaliação, retorne\n",
    "        if len(avaliacao) == 0:\n",
    "            return []\n",
    "            \n",
    "        # Obtem satisfação do cliente\n",
    "        satisfacao = x.find_all('div', style=True)\n",
    "        \n",
    "        if len(satisfacao) != 0:\n",
    "            satisfacao = satisfacao[0]['style'].split()[1].replace(';', '')\n",
    "        else:\n",
    "            satisfacao = None\n",
    "        \n",
    "        # Armazena o indice da cachaça, a avaliação e data da avaliação\n",
    "        avaliacao_list.append(\n",
    "            [\n",
    "                indice, satisfacao,\n",
    "                avaliacao[0].text.replace('\\\"', ''), avaliacao[1].span.text.split()[1]\n",
    "            ]\n",
    "        )\n",
    "        \n",
    "    return avaliacao_list\n",
    "    \n",
    "    \n",
    "avaliacao_list = []\n",
    "info_list = []\n",
    "total = len(url_list)\n",
    "\n",
    "for indice, url in enumerate(url_list):\n",
    "    \n",
    "    # Realizando conexão com a url, obtendo html e criando um objeto BeautifulSoup.\n",
    "    html = requests.get(url).text\n",
    "    bs_cachaca = BeautifulSoup(html, 'html.parser')\n",
    "\n",
    "    # Obtendo informações da cachaça\n",
    "    info = [info.text.strip() for info in bs_cachaca.tbody('td')]\n",
    "    \n",
    "    # Obtendo preço\n",
    "    info.append(\n",
    "        bs_cachaca.select('div[class=\"product-shop-info\"] span[class=\"price\"]')[0].text\n",
    "    )    \n",
    "    \n",
    "    info_list.append(info)\n",
    "    avaliacao_list += get_avaliacoes(indice, bs_cachaca)\n",
    "    \n",
    "    print('[+] {0} <--> {1}\\r'.format(indice +1, total), end='')"
   ]
  },
  {
   "cell_type": "markdown",
   "metadata": {},
   "source": [
    "#### Criando <i>DataFrame</i> com informações das cachaças"
   ]
  },
  {
   "cell_type": "code",
   "execution_count": 5,
   "metadata": {},
   "outputs": [
    {
     "data": {
      "text/html": [
       "<div>\n",
       "<style>\n",
       "    .dataframe thead tr:only-child th {\n",
       "        text-align: right;\n",
       "    }\n",
       "\n",
       "    .dataframe thead th {\n",
       "        text-align: left;\n",
       "    }\n",
       "\n",
       "    .dataframe tbody tr th {\n",
       "        vertical-align: top;\n",
       "    }\n",
       "</style>\n",
       "<table border=\"1\" class=\"dataframe\">\n",
       "  <thead>\n",
       "    <tr style=\"text-align: right;\">\n",
       "      <th></th>\n",
       "      <th>descricao</th>\n",
       "      <th>estado</th>\n",
       "      <th>envelhecimento</th>\n",
       "      <th>alcool</th>\n",
       "      <th>marca</th>\n",
       "      <th>madeira</th>\n",
       "      <th>grupo</th>\n",
       "      <th>madeira</th>\n",
       "      <th>tipo</th>\n",
       "      <th>volume</th>\n",
       "      <th>preco</th>\n",
       "    </tr>\n",
       "  </thead>\n",
       "  <tbody>\n",
       "    <tr>\n",
       "      <th>0</th>\n",
       "      <td>Envelhecida em barris de carvalho por três ano...</td>\n",
       "      <td>Minas Gerais</td>\n",
       "      <td>3 anos</td>\n",
       "      <td>40% Vol.</td>\n",
       "      <td>Vale Verde</td>\n",
       "      <td>Carvalho</td>\n",
       "      <td>Cachaça</td>\n",
       "      <td>Carvalho</td>\n",
       "      <td>Não</td>\n",
       "      <td>700 ml</td>\n",
       "      <td>R$79,90</td>\n",
       "    </tr>\n",
       "    <tr>\n",
       "      <th>1</th>\n",
       "      <td>A cachaça Vale Verde é produzida em um parque ...</td>\n",
       "      <td>Minas Gerais</td>\n",
       "      <td>3 anos</td>\n",
       "      <td>40% Vol.</td>\n",
       "      <td>Vale Verde</td>\n",
       "      <td>Carvalho</td>\n",
       "      <td>Cachaça</td>\n",
       "      <td>Carvalho</td>\n",
       "      <td>Não</td>\n",
       "      <td>50 ml</td>\n",
       "      <td>R$9,95</td>\n",
       "    </tr>\n",
       "    <tr>\n",
       "      <th>2</th>\n",
       "      <td>A Cachaça Minha Deusa é produzida pela Vale Ve...</td>\n",
       "      <td>Minas Gerais</td>\n",
       "      <td>Sem envelhecimento</td>\n",
       "      <td>40% Vol.</td>\n",
       "      <td>Vale Verde</td>\n",
       "      <td>Não Envelhcida</td>\n",
       "      <td>Cachaça</td>\n",
       "      <td>Não Envelhcida</td>\n",
       "      <td>Não</td>\n",
       "      <td>700 ml</td>\n",
       "      <td>R$34,95</td>\n",
       "    </tr>\n",
       "    <tr>\n",
       "      <th>3</th>\n",
       "      <td>A cachaça Vale Verde 12 anos, produzida em um ...</td>\n",
       "      <td>Minas Gerais</td>\n",
       "      <td>12 anos</td>\n",
       "      <td>40% Vol.</td>\n",
       "      <td>Vale Verde</td>\n",
       "      <td>Carvalho</td>\n",
       "      <td>Cachaça</td>\n",
       "      <td>Carvalho</td>\n",
       "      <td>Não</td>\n",
       "      <td>700 ml</td>\n",
       "      <td>R$594,95</td>\n",
       "    </tr>\n",
       "    <tr>\n",
       "      <th>4</th>\n",
       "      <td>A cachaça Coluninha é uma tradicional cachaça ...</td>\n",
       "      <td>Minas Gerais</td>\n",
       "      <td>Não</td>\n",
       "      <td>40% Vol.</td>\n",
       "      <td>Coluninha</td>\n",
       "      <td>Não Envelhcida</td>\n",
       "      <td>Cachaça</td>\n",
       "      <td>Não Envelhcida</td>\n",
       "      <td>Não</td>\n",
       "      <td>50 ml</td>\n",
       "      <td>R$8,50</td>\n",
       "    </tr>\n",
       "  </tbody>\n",
       "</table>\n",
       "</div>"
      ],
      "text/plain": [
       "                                           descricao        estado  \\\n",
       "0  Envelhecida em barris de carvalho por três ano...  Minas Gerais   \n",
       "1  A cachaça Vale Verde é produzida em um parque ...  Minas Gerais   \n",
       "2  A Cachaça Minha Deusa é produzida pela Vale Ve...  Minas Gerais   \n",
       "3  A cachaça Vale Verde 12 anos, produzida em um ...  Minas Gerais   \n",
       "4  A cachaça Coluninha é uma tradicional cachaça ...  Minas Gerais   \n",
       "\n",
       "       envelhecimento    alcool       marca         madeira    grupo  \\\n",
       "0              3 anos  40% Vol.  Vale Verde        Carvalho  Cachaça   \n",
       "1              3 anos  40% Vol.  Vale Verde        Carvalho  Cachaça   \n",
       "2  Sem envelhecimento  40% Vol.  Vale Verde  Não Envelhcida  Cachaça   \n",
       "3             12 anos  40% Vol.  Vale Verde        Carvalho  Cachaça   \n",
       "4                 Não  40% Vol.   Coluninha  Não Envelhcida  Cachaça   \n",
       "\n",
       "          madeira tipo  volume     preco  \n",
       "0        Carvalho  Não  700 ml   R$79,90  \n",
       "1        Carvalho  Não   50 ml    R$9,95  \n",
       "2  Não Envelhcida  Não  700 ml   R$34,95  \n",
       "3        Carvalho  Não  700 ml  R$594,95  \n",
       "4  Não Envelhcida  Não   50 ml    R$8,50  "
      ]
     },
     "execution_count": 5,
     "metadata": {},
     "output_type": "execute_result"
    }
   ],
   "source": [
    "# Criando DataFrame com as informações das cachaças\n",
    "labels = [\n",
    "    'descricao', 'estado', 'envelhecimento', 'alcool', 'marca',\n",
    "    'madeira', 'grupo', 'madeira', 'tipo', 'volume', 'preco'\n",
    "]\n",
    "df_cachaca = pd.DataFrame(info_list, columns=labels)\n",
    "df_cachaca.head()"
   ]
  },
  {
   "cell_type": "markdown",
   "metadata": {},
   "source": [
    "#### Criando <i>DataFrame</i> com avaliações das cachaças"
   ]
  },
  {
   "cell_type": "code",
   "execution_count": 6,
   "metadata": {},
   "outputs": [
    {
     "data": {
      "text/html": [
       "<div>\n",
       "<style>\n",
       "    .dataframe thead tr:only-child th {\n",
       "        text-align: right;\n",
       "    }\n",
       "\n",
       "    .dataframe thead th {\n",
       "        text-align: left;\n",
       "    }\n",
       "\n",
       "    .dataframe tbody tr th {\n",
       "        vertical-align: top;\n",
       "    }\n",
       "</style>\n",
       "<table border=\"1\" class=\"dataframe\">\n",
       "  <thead>\n",
       "    <tr style=\"text-align: right;\">\n",
       "      <th></th>\n",
       "      <th>id_cachaca</th>\n",
       "      <th>satisfacao</th>\n",
       "      <th>avaliacao</th>\n",
       "      <th>data_avaliacao</th>\n",
       "    </tr>\n",
       "  </thead>\n",
       "  <tbody>\n",
       "    <tr>\n",
       "      <th>0</th>\n",
       "      <td>0</td>\n",
       "      <td>100%</td>\n",
       "      <td>Excelente, envelhecida no carvalho, premiadíss...</td>\n",
       "      <td>25/11/2012</td>\n",
       "    </tr>\n",
       "    <tr>\n",
       "      <th>1</th>\n",
       "      <td>0</td>\n",
       "      <td>100%</td>\n",
       "      <td>É outro nível de cachaça. Muito boa. Não é par...</td>\n",
       "      <td>05/11/2012</td>\n",
       "    </tr>\n",
       "    <tr>\n",
       "      <th>2</th>\n",
       "      <td>0</td>\n",
       "      <td>100%</td>\n",
       "      <td>E beber com estilo</td>\n",
       "      <td>25/01/2012</td>\n",
       "    </tr>\n",
       "    <tr>\n",
       "      <th>3</th>\n",
       "      <td>0</td>\n",
       "      <td>100%</td>\n",
       "      <td>Melhor cachaça que já tomei!</td>\n",
       "      <td>26/08/2011</td>\n",
       "    </tr>\n",
       "    <tr>\n",
       "      <th>4</th>\n",
       "      <td>0</td>\n",
       "      <td>100%</td>\n",
       "      <td>A cachaça Vale Verde é a melhor cachaça do Bra...</td>\n",
       "      <td>09/08/2011</td>\n",
       "    </tr>\n",
       "  </tbody>\n",
       "</table>\n",
       "</div>"
      ],
      "text/plain": [
       "   id_cachaca satisfacao                                          avaliacao  \\\n",
       "0           0       100%  Excelente, envelhecida no carvalho, premiadíss...   \n",
       "1           0       100%  É outro nível de cachaça. Muito boa. Não é par...   \n",
       "2           0       100%                                 E beber com estilo   \n",
       "3           0       100%                       Melhor cachaça que já tomei!   \n",
       "4           0       100%  A cachaça Vale Verde é a melhor cachaça do Bra...   \n",
       "\n",
       "  data_avaliacao  \n",
       "0     25/11/2012  \n",
       "1     05/11/2012  \n",
       "2     25/01/2012  \n",
       "3     26/08/2011  \n",
       "4     09/08/2011  "
      ]
     },
     "execution_count": 6,
     "metadata": {},
     "output_type": "execute_result"
    }
   ],
   "source": [
    "# Criando DataFrame com as informações das avaliações\n",
    "labels = ['id_cachaca', 'satisfacao', 'avaliacao', 'data_avaliacao']\n",
    "df_avaliacao = pd.DataFrame(avaliacao_list, columns=labels)\n",
    "df_avaliacao.head()"
   ]
  },
  {
   "cell_type": "markdown",
   "metadata": {},
   "source": [
    "#### Salvando os <i>DataFrame</i> para arquivo .csv"
   ]
  },
  {
   "cell_type": "code",
   "execution_count": 7,
   "metadata": {},
   "outputs": [],
   "source": [
    "df_cachaca.to_csv('dataset/cachaca.csv', )\n",
    "df_avaliacao.to_csv('dataset/avaliacao.csv')"
   ]
  },
  {
   "cell_type": "markdown",
   "metadata": {},
   "source": [
    "### Rápida análise dos dados"
   ]
  },
  {
   "cell_type": "code",
   "execution_count": 8,
   "metadata": {},
   "outputs": [],
   "source": [
    "# lendo arquivos\n",
    "df_aguardente = pd.read_csv('dataset/cachaca.csv')\n",
    "df_ava = pd.read_csv('dataset/avaliacao.csv')"
   ]
  },
  {
   "cell_type": "code",
   "execution_count": 9,
   "metadata": {},
   "outputs": [
    {
     "name": "stdout",
     "output_type": "stream",
     "text": [
      "Total de cachaças:  335\n",
      "Total de avaliações:  13\n"
     ]
    }
   ],
   "source": [
    "# Total de avaliçãoes\n",
    "print('Total de cachaças: ', df_aguardente.count().marca)\n",
    "print('Total de avaliações: ', df_ava.groupby(['id_cachaca']).count().shape[0])"
   ]
  }
 ],
 "metadata": {
  "kernelspec": {
   "display_name": "Python 3",
   "language": "python",
   "name": "python3"
  },
  "language_info": {
   "codemirror_mode": {
    "name": "ipython",
    "version": 3
   },
   "file_extension": ".py",
   "mimetype": "text/x-python",
   "name": "python",
   "nbconvert_exporter": "python",
   "pygments_lexer": "ipython3",
   "version": "3.5.3"
  }
 },
 "nbformat": 4,
 "nbformat_minor": 2
}
